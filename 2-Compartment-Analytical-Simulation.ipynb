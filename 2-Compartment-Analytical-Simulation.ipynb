{
 "cells": [
  {
   "cell_type": "code",
   "execution_count": 6,
   "id": "9afe9833",
   "metadata": {},
   "outputs": [],
   "source": [
    "import numpy as np\n",
    "import scipy.io as spio\n",
    "from scipy.integrate import solve_ivp\n",
    "##%matplotlib notebook\n",
    "import matplotlib.pyplot as plt\n",
    "from matplotlib import rc, rcParams\n",
    "rcParams['font.size'] = 18\n",
    "rc('font', family='sans-serif')\n",
    "rcParams['font.family'] = 'Serif'\n",
    "rcParams['font.weight'] = 'light'\n",
    "rcParams['mathtext.fontset'] = 'cm'\n",
    "# changed to False because I am not using LaTex\n",
    "rcParams['text.usetex'] = False\n",
    "\n",
    "#new change"
   ]
  },
  {
   "cell_type": "code",
   "execution_count": 9,
   "id": "9b649186",
   "metadata": {
    "scrolled": true
   },
   "outputs": [],
   "source": [
    "#maximal conductances in mS/cm^2\n",
    "gL = 0.1; #leak\n",
    "\n",
    "#reversal potential (in mV)\n",
    "VL = 0;\n",
    "\n",
    "#conductance coupling coefficient between soma and dendrite compartment \n",
    "#(in mS/cm^2)\n",
    "gc = 1.85; \n",
    "\n",
    "#fraction of cable length assigned to soma (1-p for dendrite)\n",
    "p = 0.5;\n",
    "\n",
    "#capacitance uF/cm^2\n",
    "Cm = 3;\n",
    "\n",
    "gc_t = gc/p;\n",
    "rho_c = gc_t/gL;\n",
    "\n",
    "tau = Cm/gL; # in ms\n",
    "\n",
    "Is = 1; # in uA/cm^2\n",
    "Is_t = Is/p;\n",
    "\n",
    "# Stimulus current, this should be 10 instead of 10e-5, likely due to her implementation\n",
    "def Istim(t):\n",
    "    if t>2.5 and t<22.5:\n",
    "        Istim = 10\n",
    "    else:\n",
    "        Istim=0\n",
    "    return Istim\n",
    "\n"
   ]
  },
  {
   "cell_type": "code",
   "execution_count": 17,
   "id": "9d8ecc31",
   "metadata": {},
   "outputs": [
    {
     "data": {
      "image/png": "[encoded data removed]",
      "text/plain": [
       "<Figure size 1200x500 with 1 Axes>"
      ]
     },
     "metadata": {},
     "output_type": "display_data"
    }
   ],
   "source": [
    "import math\n",
    "def func_w1 (t, t1, t2): \n",
    "    if t<t1:\n",
    "        return 0\n",
    "    elif t>=t1 and t<=t2:\n",
    "        # when Q = 10*(t2-t1)\n",
    "        return Is_t/(math.sqrt(2)*gL)*(1-math.e**((t1-t)/tau))\n",
    "    else:\n",
    "        return Is_t/(math.sqrt(2)*gL)*((math.e**((t2-t)/tau))-math.e**((t1-t)/tau))\n",
    "\n",
    "def func_w2 (t, t1, t2): \n",
    "    tau1 = tau/(1 + 2*rho_c);\n",
    "    if t<t1:\n",
    "        return 0\n",
    "    elif t>=t1 and t<=t2:\n",
    "        # when Q = 10*(t2-t1)\n",
    "        return (-Is_t)/(math.sqrt(2)*gL*(1 + 2*rho_c))*(1-math.e**((t1-t)/tau1))\n",
    "    else:\n",
    "        return (-Is_t)/(math.sqrt(2)*gL*(1 + 2*rho_c))*((math.e**((t2-t)/tau1))-math.e**((t1-t)/tau1))\n",
    "\n",
    "vfunc_w1 = np.vectorize(func_w1)\n",
    "vfunc_w2 = np.vectorize(func_w2)\n",
    "\n",
    "t = np.linspace(0, 40, 5000)    \n",
    "y_w1 = vfunc_w1(t, t1, t2)\n",
    "y_w2 = vfunc_w2(t, t1, t2)\n",
    "\n",
    "#display results\n",
    "fig1 = plt.figure(figsize=(12,5))\n",
    "plt.plot(t, y_w1, c='b', label='w1_analytical')\n",
    "plt.plot(t, y_w2, c='r', label='w2_analytical')\n",
    "plt.show()"
   ]
  },
  {
   "cell_type": "code",
   "execution_count": null,
   "id": "7cd7bcba",
   "metadata": {},
   "outputs": [],
   "source": []
  },
  {
   "cell_type": "code",
   "execution_count": null,
   "id": "a865a828",
   "metadata": {},
   "outputs": [],
   "source": []
  }
 ],
 "metadata": {
  "kernelspec": {
   "display_name": "Python 3 (ipykernel)",
   "language": "python",
   "name": "python3"
  },
  "language_info": {
   "codemirror_mode": {
    "name": "ipython",
    "version": 3
   },
   "file_extension": ".py",
   "mimetype": "text/x-python",
   "name": "python",
   "nbconvert_exporter": "python",
   "pygments_lexer": "ipython3",
   "version": "3.9.13"
  }
 },
 "nbformat": 4,
 "nbformat_minor": 5
}
